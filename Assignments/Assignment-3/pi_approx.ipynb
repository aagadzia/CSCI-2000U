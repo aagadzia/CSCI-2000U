{
 "cells": [
  {
   "cell_type": "code",
   "execution_count": 1,
   "metadata": {
    "collapsed": true
   },
   "outputs": [],
   "source": [
    "# Ama Agadzi- 100449923\n"
   ]
  },
  {
   "cell_type": "code",
   "execution_count": 75,
   "metadata": {
    "collapsed": false
   },
   "outputs": [],
   "source": [
    "#function to calculate rho\n",
    "def rho_calc(amount):\n",
    "    k =1 \n",
    "    n=1\n",
    "    rho_sum =0\n",
    "    while n < amount:\n",
    "        rho_n= (((-1)**(k+1))/ ((2*n) -1))\n",
    "        n += 1\n",
    "        k += 1\n",
    "        rho_sum += rho_n \n",
    "\n",
    "    rho_n = rho_sum *4\n",
    "     \n",
    "    print ('when n= %d rho_n = %1.9f ' %(amount, rho_n))\n",
    "\n",
    "\n",
    "#function to calculate tau\n",
    "\n",
    "def tau_calc(amount):\n",
    "    \n",
    "    n=1\n",
    "    tau_sum = 0\n",
    "    while n <  amount:\n",
    "        tau_n = 1 / n**2\n",
    "        tau_sum += tau_n\n",
    "        n += 1\n",
    "    \n",
    "    tau_n = (6*tau_sum)**(1/2)  \n",
    "    print ('when n= %d tau_n = %1.9f ' %(amount, tau_n))\n",
    "    \n",
    "#function to calculate mu\n",
    "def mu_calc(amount):\n",
    "    \n",
    "    n=1\n",
    "    mu_sum = 0\n",
    "    while n < amount:\n",
    "        mu_n = 1 / n**4\n",
    "        mu_sum += mu_n\n",
    "        n +=1\n",
    "        \n",
    "    mu_n= (90* mu_sum)**(1/4)\n",
    "    print ('when n= %d tau_n = %1.9f ' %(amount, mu_n))\n",
    "\n",
    "        \n",
    "    \n",
    "    "
   ]
  },
  {
   "cell_type": "code",
   "execution_count": 74,
   "metadata": {
    "collapsed": false
   },
   "outputs": [
    {
     "name": "stdout",
     "output_type": "stream",
     "text": [
      "when n= 10 rho_n = 3.252365935 \n",
      "when n= 10 tau_n = 3.039507590 \n",
      "when n= 10 tau_n = 3.141312040 \n",
      "when n= 100 rho_n = 3.151693406 \n",
      "when n= 100 tau_n = 3.131980747 \n",
      "when n= 100 tau_n = 3.141592408 \n",
      "when n= 1000 rho_n = 3.142593654 \n",
      "when n= 1000 tau_n = 3.140637101 \n",
      "when n= 1000 tau_n = 3.141592653 \n",
      "when n= 10000 rho_n = 3.141692664 \n",
      "when n= 10000 tau_n = 3.141497154 \n",
      "when n= 10000 tau_n = 3.141592654 \n",
      "when n= 100000 rho_n = 3.141602654 \n",
      "when n= 100000 tau_n = 3.141583104 \n",
      "when n= 100000 tau_n = 3.141592654 \n",
      "when n= 1000000 rho_n = 3.141593654 \n",
      "when n= 1000000 tau_n = 3.141591699 \n",
      "when n= 1000000 tau_n = 3.141592654 \n"
     ]
    }
   ],
   "source": [
    "#function calls \n",
    "\n",
    "rho_calc(10)\n",
    "tau_calc(10) \n",
    "mu_calc(10)\n",
    "rho_calc(100)\n",
    "tau_calc(100) \n",
    "mu_calc(100)\n",
    "rho_calc(1000)\n",
    "tau_calc(1000) \n",
    "mu_calc(1000)\n",
    "rho_calc(10000)\n",
    "tau_calc(10000) \n",
    "mu_calc(10000)\n",
    "rho_calc(100000)\n",
    "tau_calc(100000) \n",
    "mu_calc(100000)\n",
    "rho_calc(1000000)\n",
    "tau_calc(1000000) \n",
    "mu_calc(1000000)\n",
    "\n"
   ]
  },
  {
   "cell_type": "code",
   "execution_count": null,
   "metadata": {
    "collapsed": true
   },
   "outputs": [],
   "source": []
  }
 ],
 "metadata": {
  "kernelspec": {
   "display_name": "Python 3",
   "language": "python",
   "name": "python3"
  },
  "language_info": {
   "codemirror_mode": {
    "name": "ipython",
    "version": 3
   },
   "file_extension": ".py",
   "mimetype": "text/x-python",
   "name": "python",
   "nbconvert_exporter": "python",
   "pygments_lexer": "ipython3",
   "version": "3.4.3"
  }
 },
 "nbformat": 4,
 "nbformat_minor": 0
}
