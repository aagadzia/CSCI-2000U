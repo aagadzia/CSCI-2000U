{
 "cells": [
  {
   "cell_type": "code",
   "execution_count": null,
   "metadata": {
    "collapsed": true
   },
   "outputs": [],
   "source": [
    "def fib_file(n, fname):"
   ]
  },
  {
   "cell_type": "code",
   "execution_count": null,
   "metadata": {
    "collapsed": true
   },
   "outputs": [],
   "source": [
    "# n is  of number of terms to be calculated . fname is file name to be writtern "
   ]
  },
  {
   "cell_type": "code",
   "execution_count": null,
   "metadata": {
    "collapsed": true
   },
   "outputs": [],
   "source": [
    " writer = open('fname_n.txt', 'w')\n",
    "    writer.write('n            F_n\\n')\n",
    "        i=0\n",
    "            while i < n:\n",
    "            nn= 0\n",
    "            fn= nn + (nn-1)\n",
    "            nn += 1\n",
    "            writer.writer ('%d            %d' (%nn, %fn))\n",
    "        i +=1\n",
    "    \n",
    "    writer.close()     \n",
    "    "
   ]
  }
 ],
 "metadata": {
  "kernelspec": {
   "display_name": "Python 3",
   "language": "python",
   "name": "python3"
  },
  "language_info": {
   "codemirror_mode": {
    "name": "ipython",
    "version": 3
   },
   "file_extension": ".py",
   "mimetype": "text/x-python",
   "name": "python",
   "nbconvert_exporter": "python",
   "pygments_lexer": "ipython3",
   "version": "3.4.3"
  }
 },
 "nbformat": 4,
 "nbformat_minor": 0
}
